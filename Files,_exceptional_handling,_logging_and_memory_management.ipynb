{
  "nbformat": 4,
  "nbformat_minor": 0,
  "metadata": {
    "colab": {
      "provenance": []
    },
    "kernelspec": {
      "name": "python3",
      "display_name": "Python 3"
    },
    "language_info": {
      "name": "python"
    }
  },
  "cells": [
    {
      "cell_type": "markdown",
      "source": [
        "**Files, exceptional handling, logging and memory management**"
      ],
      "metadata": {
        "id": "uhqdkGkc9bDl"
      }
    },
    {
      "cell_type": "markdown",
      "source": [
        "1. What is the difference between interpreted and compiled languages?\n",
        "\n",
        "->\n",
        "- Interpreted Languages: In interpreted languages, the source code is executed line by line by an interpreter at runtime. This means that the code is not translated into machine code beforehand. Examples include Python, Ruby, and JavaScript. The advantage is that it allows for more flexibility and easier debugging, but it can be slower than compiled languages.\n",
        "\n",
        "- Compiled Languages: In compiled languages, the source code is translated into machine code by a compiler before execution. This machine code is then executed directly by the computer's hardware. Examples include C, C++, and Rust. Compiled languages generally offer better performance but require a separate compilation step before running the program."
      ],
      "metadata": {
        "id": "kSJRN-dk9ww6"
      }
    },
    {
      "cell_type": "markdown",
      "source": [
        "2. What is exception handling in Python?\n",
        "\n",
        "-> Exception handling in Python is a mechanism to handle runtime errors gracefully without crashing the program. It allows developers to write code that can respond to errors or exceptional conditions using 'try', 'except', 'else', and 'finally' blocks."
      ],
      "metadata": {
        "id": "pg3eSgX5-UHq"
      }
    },
    {
      "cell_type": "markdown",
      "source": [
        "3. What is the purpose of the finally block in exception handling?\n",
        "\n",
        "-> The 'finally' block in exception handling is used to define a block of code that will always execute, regardless of whether an exception was raised or not. It is typically used for cleanup actions, such as closing files or releasing resources."
      ],
      "metadata": {
        "id": "UZlT0DeZ-gyk"
      }
    },
    {
      "cell_type": "markdown",
      "source": [
        "4. What is logging in Python?\n",
        "\n",
        "-> Logging in Python is a way to track events that happen during program execution. The 'logging' module provides a flexible framework for emitting log messages from Python programs. It allows developers to record information about the program's execution, which can be useful for debugging and monitoring."
      ],
      "metadata": {
        "id": "PJrchaGd-t_J"
      }
    },
    {
      "cell_type": "markdown",
      "source": [
        "5. What is the significance of the __del__ method in Python?\n",
        "\n",
        "-> The '__del__' method is a destructor that is called when an object is about to be destroyed. It can be used to perform cleanup actions, such as closing files or releasing resources. However, its use is generally discouraged due to the unpredictability of when it will be called, especially in the presence of circular references."
      ],
      "metadata": {
        "id": "XtA2-bqR-5G8"
      }
    },
    {
      "cell_type": "markdown",
      "source": [
        "6. What is the difference between 'import' and 'from ... import' in Python?\n",
        "\n",
        "->\n",
        "- import: This statement imports an entire module. You can access its functions and classes using the module name as a prefix.\n",
        "\n",
        "import math\n",
        "\n",
        "print(math.sqrt(16))    # Output: 4.0\n",
        "\n",
        "\n",
        "- from ... import: This statement imports specific functions or classes from a module, allowing you to use them directly without the module name prefix.\n",
        "\n",
        "from math import sqrt\n",
        "\n",
        "print(sqrt(16))  # Output: 4.0"
      ],
      "metadata": {
        "id": "cfbOT85e_ItP"
      }
    },
    {
      "cell_type": "markdown",
      "source": [
        "7. How can you handle multiple exceptions in Python?\n",
        "\n",
        "-> You can handle multiple exceptions by specifying multiple 'except' blocks or by using a single 'except' block with a tuple of exceptions.\n",
        "\n"
      ],
      "metadata": {
        "id": "cni7S4B6_qY6"
      }
    },
    {
      "cell_type": "markdown",
      "source": [
        "8. What is the purpose of the 'with' statement when handling files in Python?\n",
        "\n",
        "-> The 'with' statement is used to wrap the execution of a block of code with methods defined by a context manager. When dealing with files, it ensures that the file is properly closed after its suite finishes, even if an exception is raised. This helps prevent resource leaks.\n",
        "\n"
      ],
      "metadata": {
        "id": "H5pQ3ge9AAzt"
      }
    },
    {
      "cell_type": "markdown",
      "source": [],
      "metadata": {
        "id": "7EZH8URcARdj"
      }
    },
    {
      "cell_type": "markdown",
      "source": [
        "9.\tWhat is the difference between multithreading and multiprocessing?\n",
        "\n",
        "->\n",
        "- Multithreading: This involves multiple threads within a single process. Threads share the same memory space, which makes communication between them easier but can lead to issues like race conditions. It is useful for I/O-bound tasks.\n",
        "\n",
        "- Multiprocessing: This involves multiple processes, each with its own memory space. This approach is more memory-intensive but avoids issues related to shared memory. It is useful for CPU-bound tasks, as it can take advantage of multiple CPU cores."
      ],
      "metadata": {
        "id": "bNNyBIUdATFh"
      }
    },
    {
      "cell_type": "markdown",
      "source": [
        "10.\tWhat are the advantages of using logging in a program?\n",
        "\n",
        "->\n",
        "- Debugging: Helps in tracking down issues by providing a record of events.\n",
        "- Monitoring: Allows for monitoring the application's behavior in production.\n",
        "- Configurability: Logging levels can be adjusted to control the verbosity of output.\n",
        "- Persistence: Logs can be saved to files or external systems for later analysis."
      ],
      "metadata": {
        "id": "QCh1Q9h2AZgy"
      }
    },
    {
      "cell_type": "markdown",
      "source": [
        "11.\tWhat is memory management in Python?\n",
        "\n",
        "-> Memory management in Python refers to the process of allocating and deallocating memory for objects and data structures. Python uses a built-in garbage collector to manage memory automatically, which helps in reclaiming memory that is no longer in use. This reduces memory leaks and optimizes memory usage."
      ],
      "metadata": {
        "id": "rN9hyA4nAnlh"
      }
    },
    {
      "cell_type": "markdown",
      "source": [
        "12.\tWhat are the basic steps involved in exception handling in Python?\n",
        "\n",
        "->\n",
        "The basic steps in exception handling are:\n",
        "\n",
        "1.   Try Block: Write the code that may raise an exception inside a try block.\n",
        "2.   Except Block: Use one or more except blocks to handle specific exceptions that may occur.\n",
        "3.   Else Block: Optionally, use an else block to execute code if no exceptions were raised.\n",
        "4.   Finally Block: Optionally, use a finally block to execute code that should run regardless of whether an exception occurred.\n",
        "\n",
        "\n",
        "\n",
        "\n",
        "\n",
        "\n"
      ],
      "metadata": {
        "id": "8HGEyxLgA7Io"
      }
    },
    {
      "cell_type": "markdown",
      "source": [
        "13.\tWhy is memory management important in Python?\n",
        "\n",
        "-> Memory management is crucial in Python to ensure efficient use of memory resources, prevent memory leaks, and maintain application performance. Proper memory management helps in optimizing the execution of programs and ensures that the system does not run out of memory."
      ],
      "metadata": {
        "id": "ofjQCrH6Bnna"
      }
    },
    {
      "cell_type": "markdown",
      "source": [
        "14. What is the role of try and except in exception handling?\n",
        "\n",
        "-> The try block contains code that may potentially raise an exception, while the except block defines how to handle that exception if it occurs. This allows the program to continue running or to handle errors gracefully instead of crashing."
      ],
      "metadata": {
        "id": "hN4zgbS1BtlR"
      }
    },
    {
      "cell_type": "markdown",
      "source": [
        "15.\tHow does Python's garbage collection system work?\n",
        "\n",
        "-> Python's garbage collection system automatically manages memory by tracking object references. When an object's reference count drops to zero (meaning no references to the object exist), the memory occupied by that object is reclaimed. Python also uses a cyclic garbage collector to detect and clean up reference cycles."
      ],
      "metadata": {
        "id": "zFaJsjp6B7i-"
      }
    },
    {
      "cell_type": "markdown",
      "source": [
        "16.\tWhat is the purpose of the else block in exception handling?\n",
        "\n",
        "-> The else block in exception handling is executed if the code in the try block does not raise any exceptions. It is useful for code that should only run when no errors occur, allowing for clearer separation of error handling and normal execution."
      ],
      "metadata": {
        "id": "gGsze7NHCAtm"
      }
    },
    {
      "cell_type": "markdown",
      "source": [
        "17.\tWhat are the common logging levels in Python?\n",
        "\n",
        "-> The common logging levels in Python, defined in the logging module, are:\n",
        "\n",
        "- DEBUG: Detailed information, typically of interest only when diagnosing problems.\n",
        "- INFO: Confirmation that things are working as expected.\n",
        "- WARNING: An indication that something unexpected happened, or indicative of some problem in the near future.\n",
        "- ERROR: Due to a more serious problem, the software has not been able to perform a function.\n",
        "- CRITICAL: A very serious error, indicating that the program itself may be unable to continue running."
      ],
      "metadata": {
        "id": "uhPG2rvTCIe8"
      }
    },
    {
      "cell_type": "markdown",
      "source": [
        "18.\tWhat is the difference between os.fork() and multiprocessing in Python?\n",
        "\n",
        "->\n",
        "- os.fork(): This function is used to create a new process by duplicating the current process. It is specific to Unix-like operating systems and creates a child process that is a copy of the parent. The child process has its own memory space.\n",
        "\n",
        "- multiprocessing: This module provides a higher-level interface for creating and managing processes. It is cross-platform and allows for easier communication between processes through pipes and queues, making it more suitable for complex applications."
      ],
      "metadata": {
        "id": "YjO3gEOSCUv-"
      }
    },
    {
      "cell_type": "markdown",
      "source": [
        "19.\tWhat is the importance of closing a file in Python?\n",
        "\n",
        "-> Closing a file in Python is important to free up system resources and ensure that all data is properly written to disk. Failing to close a file can lead to memory leaks and data corruption, especially if the program terminates unexpectedly."
      ],
      "metadata": {
        "id": "aBCY9k5GCeJT"
      }
    },
    {
      "cell_type": "markdown",
      "source": [
        "20.\tWhat is the difference between file.read() and file.readline() in Python?\n",
        "\n",
        "->\n",
        "- file.read(): This method reads the entire content of a file as a single string. It is useful when you want to process the whole file at once.\n",
        "\n",
        "- file.readline(): This method reads a single line from the file at a time. It is useful for processing large files line by line without loading the entire file into memory."
      ],
      "metadata": {
        "id": "2Mv_6xfZCjqZ"
      }
    },
    {
      "cell_type": "markdown",
      "source": [
        "21.\tWhat is the logging module in Python used for?\n",
        "\n",
        "-> The logging module in Python is used for tracking events that happen during program execution. It provides a way to configure different log levels, output formats, and destinations (such as console or file), making it easier to monitor and debug applications."
      ],
      "metadata": {
        "id": "g__Yx5QwCtto"
      }
    },
    {
      "cell_type": "markdown",
      "source": [
        "22.\tWhat is the os module in Python used for in file handling?\n",
        "\n",
        "-> The os module in Python provides a way to interact with the operating system. In file handling, it is used for tasks such as creating, deleting, and renaming files and directories, as well as navigating the file system and obtaining information about files."
      ],
      "metadata": {
        "id": "uo9KNibXC0Hk"
      }
    },
    {
      "cell_type": "markdown",
      "source": [
        "23.\tWhat are the challenges associated with memory management in Python?\n",
        "\n",
        "-> Challenges associated with memory management in Python include:\n",
        "\n",
        "- Memory Leaks: Objects that are no longer needed but are still referenced can lead to memory leaks.\n",
        "- Circular References: Objects that reference each other can prevent the garbage collector from reclaim ing their memory.\n",
        "- Performance Overhead: The garbage collection process can introduce performance overhead, especially in memory-intensive applications.\n",
        "- Fragmentation: Over time, memory fragmentation can occur, leading to inefficient use of memory."
      ],
      "metadata": {
        "id": "BDWG52JYC63L"
      }
    },
    {
      "cell_type": "markdown",
      "source": [
        "24.\tHow do you raise an exception manually in Python?\n",
        "\n",
        "-> You can raise an exception manually using the raise statement followed by the exception type. You can also provide an optional error message."
      ],
      "metadata": {
        "id": "KV4hx7fCDDtC"
      }
    },
    {
      "cell_type": "markdown",
      "source": [
        "25.\tWhy is it important to use multithreading in certain applications?\n",
        "\n",
        "-> Multithreading is important in applications that require concurrent execution of tasks, especially when dealing with I/O-bound operations. It allows for better resource utilization, improved responsiveness, and the ability to perform multiple operations simultaneously without blocking the main thread. This is particularly useful in applications like web servers, GUI applications, and network services."
      ],
      "metadata": {
        "id": "mijkA8NUDL0J"
      }
    },
    {
      "cell_type": "markdown",
      "source": [
        "**Practical Questions**"
      ],
      "metadata": {
        "id": "3gBZ-bTHDRqj"
      }
    },
    {
      "cell_type": "code",
      "execution_count": 1,
      "metadata": {
        "id": "xKT_H8fD9Irf"
      },
      "outputs": [],
      "source": [
        "# 1.\tHow can you open a file for writing in Python and write a string to it.\n",
        "\n",
        "with open('output.txt', 'w') as file:\n",
        "    file.write(\"Hello, World!\")"
      ]
    },
    {
      "cell_type": "code",
      "source": [
        "# 2.\tWrite a Python program to read the contents of a file and print each line.\n",
        "\n",
        "with open('input.txt', 'r') as file:\n",
        "    for line in file:\n",
        "        print(line.strip())  # Use strip() to remove leading/trailing whitespace"
      ],
      "metadata": {
        "id": "rfYlJUW9GIyk"
      },
      "execution_count": null,
      "outputs": []
    },
    {
      "cell_type": "code",
      "source": [
        "# 3.\tHow would you handle a case where the file doesn't exist while trying to open it for reading?\n",
        "\n",
        "try:\n",
        "    with open('non_existent_file.txt', 'r') as file:\n",
        "        content = file.read()\n",
        "except FileNotFoundError:\n",
        "    print(\"The file does not exist.\")"
      ],
      "metadata": {
        "colab": {
          "base_uri": "https://localhost:8080/"
        },
        "id": "hCoU_etOFcU0",
        "outputId": "f47dad4b-fac4-40ec-9398-b13f173a44a6"
      },
      "execution_count": 5,
      "outputs": [
        {
          "output_type": "stream",
          "name": "stdout",
          "text": [
            "The file does not exist.\n"
          ]
        }
      ]
    },
    {
      "cell_type": "code",
      "source": [
        "# 4. Write a Python script that reads from one file and writes its content to another file.\n",
        "\n",
        "with open('source.txt', 'r') as source_file:\n",
        "    with open('destination.txt', 'w') as dest_file:\n",
        "        for line in source_file:\n",
        "            dest_file.write(line)"
      ],
      "metadata": {
        "id": "5IpqiThXF-KG"
      },
      "execution_count": null,
      "outputs": []
    },
    {
      "cell_type": "code",
      "source": [
        "# 5.\tHow would you catch and handle division by zero error in Python?\n",
        "\n",
        "try:\n",
        "    result = 10 / 0\n",
        "except ZeroDivisionError:\n",
        "    print(\"Error: Division by zero.\")"
      ],
      "metadata": {
        "colab": {
          "base_uri": "https://localhost:8080/"
        },
        "id": "bWsSunT0Gdfu",
        "outputId": "3d0a7e2d-bf9a-4cb0-840a-607e46afc878"
      },
      "execution_count": 7,
      "outputs": [
        {
          "output_type": "stream",
          "name": "stdout",
          "text": [
            "Error: Division by zero.\n"
          ]
        }
      ]
    },
    {
      "cell_type": "code",
      "source": [
        "# 6.\tWrite a Python program that logs an error message to a log file when a division by zero exception occurs.\n",
        "\n",
        "import logging\n",
        "\n",
        "# Configure logging\n",
        "logging.basicConfig(filename='error.log', level=logging.ERROR)\n",
        "\n",
        "try:\n",
        "    result = 10 / 0\n",
        "except ZeroDivisionError as e:\n",
        "    logging.error(\"Division by zero error: %s\", e)"
      ],
      "metadata": {
        "colab": {
          "base_uri": "https://localhost:8080/"
        },
        "id": "a1ZnwIOpGkM2",
        "outputId": "728f61d5-c184-43db-ad81-9e32dd58e66f"
      },
      "execution_count": 8,
      "outputs": [
        {
          "output_type": "stream",
          "name": "stderr",
          "text": [
            "ERROR:root:Division by zero error: division by zero\n"
          ]
        }
      ]
    },
    {
      "cell_type": "code",
      "source": [
        "# 7.\tHow do you log information at different levels (INFO, ERROR, WARNING) in Python using the logging module?\n",
        "\n",
        "import logging\n",
        "\n",
        "# Configure logging\n",
        "logging.basicConfig(level=logging.DEBUG)\n",
        "\n",
        "logging.debug(\"This is a debug message.\")\n",
        "logging.info(\"This is an info message.\")\n",
        "logging.warning(\"This is a warning message.\")\n",
        "logging.error(\"This is an error message.\")\n",
        "logging.critical(\"This is a critical message.\")"
      ],
      "metadata": {
        "colab": {
          "base_uri": "https://localhost:8080/"
        },
        "id": "c3cE5RvqGrns",
        "outputId": "94857eb4-1e3f-4b26-b06c-598c47efdc16"
      },
      "execution_count": 9,
      "outputs": [
        {
          "output_type": "stream",
          "name": "stderr",
          "text": [
            "WARNING:root:This is a warning message.\n",
            "ERROR:root:This is an error message.\n",
            "CRITICAL:root:This is a critical message.\n"
          ]
        }
      ]
    },
    {
      "cell_type": "code",
      "source": [
        "# 8.\tWrite a program to handle a file opening error using exception handling.\n",
        "\n",
        "try:\n",
        "    with open('non_existent_file.txt', 'r') as file:\n",
        "        content = file.read()\n",
        "except FileNotFoundError:\n",
        "    print(\"Error: The file could not be opened because it does not exist.\")"
      ],
      "metadata": {
        "colab": {
          "base_uri": "https://localhost:8080/"
        },
        "id": "kL2nEZkwGys2",
        "outputId": "8a66fb9c-f34c-4578-c239-702f4300c070"
      },
      "execution_count": 10,
      "outputs": [
        {
          "output_type": "stream",
          "name": "stdout",
          "text": [
            "Error: The file could not be opened because it does not exist.\n"
          ]
        }
      ]
    },
    {
      "cell_type": "code",
      "source": [
        "# 9.\tHow can you read a file line by line and store its content in a list in Python?\n",
        "\n",
        "lines = []\n",
        "with open('input.txt', 'r') as file:\n",
        "    for line in file:\n",
        "        lines.append(line.strip())\n",
        "print(lines)"
      ],
      "metadata": {
        "id": "oh3_Zo5VHKuM"
      },
      "execution_count": null,
      "outputs": []
    },
    {
      "cell_type": "code",
      "source": [
        "# 10.\tHow can you append data to an existing file in Python?\n",
        "\n",
        "with open('output.txt', 'a') as file:\n",
        "    file.write(\"Appending this line.\\n\")"
      ],
      "metadata": {
        "id": "_bHQCSjoHNf9"
      },
      "execution_count": 13,
      "outputs": []
    },
    {
      "cell_type": "code",
      "source": [
        "# 11.\tWrite a Python program that uses a try-except block to handle an error when attempting to access a dictionary key that doesn't exist.\n",
        "\n",
        "my_dict = {'a': 1, 'b': 2}\n",
        "try:\n",
        "    value = my_dict['c']\n",
        "except KeyError:\n",
        "    print(\"Error: Key does not exist.\")"
      ],
      "metadata": {
        "colab": {
          "base_uri": "https://localhost:8080/"
        },
        "id": "HGRsCZJLHUzI",
        "outputId": "173af3e7-ef99-48c3-e62f-e9744504adc1"
      },
      "execution_count": 14,
      "outputs": [
        {
          "output_type": "stream",
          "name": "stdout",
          "text": [
            "Error: Key does not exist.\n"
          ]
        }
      ]
    },
    {
      "cell_type": "code",
      "source": [
        "# 12.\tWrite a program that demonstrates using multiple except blocks to handle different types of exceptions.\n",
        "\n",
        "try:\n",
        "    result = 10 / 0\n",
        "    value = my_dict['c']\n",
        "except ZeroDivisionError:\n",
        "    print(\"Error: Division by zero.\")\n",
        "except KeyError:\n",
        "    print(\"Error: Key does not exist.\")"
      ],
      "metadata": {
        "colab": {
          "base_uri": "https://localhost:8080/"
        },
        "id": "8FaoBS3_HfcA",
        "outputId": "706f8db9-604a-406c-8a3c-139b2f055d7d"
      },
      "execution_count": 15,
      "outputs": [
        {
          "output_type": "stream",
          "name": "stdout",
          "text": [
            "Error: Division by zero.\n"
          ]
        }
      ]
    },
    {
      "cell_type": "code",
      "source": [
        "# 13.\tHow would you check if a file exists before attempting to read it in Python?\n",
        "\n",
        "import os\n",
        "\n",
        "if os.path.exists('input.txt'):\n",
        "    with open('input.txt', 'r') as file:\n",
        "        content = file.read()\n",
        "else:\n",
        "    print(\"The file does not exist.\")"
      ],
      "metadata": {
        "colab": {
          "base_uri": "https://localhost:8080/"
        },
        "id": "ktOjrb_QHkQ2",
        "outputId": "92e348dc-b88b-4c5f-d449-220a1322986a"
      },
      "execution_count": 16,
      "outputs": [
        {
          "output_type": "stream",
          "name": "stdout",
          "text": [
            "The file does not exist.\n"
          ]
        }
      ]
    },
    {
      "cell_type": "code",
      "source": [
        "# 14.\tWrite a program that uses the logging module to log both informational and error messages.\n",
        "\n",
        "import logging\n",
        "\n",
        "# Configure logging\n",
        "logging.basicConfig(filename='app.log', level=logging.DEBUG)\n",
        "\n",
        "logging.info(\"This is an informational message.\")\n",
        "try:\n",
        "    result = 10 / 0\n",
        "except ZeroDivisionError as e:\n",
        "    logging.error(\"An error occurred: %s\", e)"
      ],
      "metadata": {
        "colab": {
          "base_uri": "https://localhost:8080/"
        },
        "id": "nlfulFeJHxFF",
        "outputId": "cb1540b9-f9e7-44f7-b64e-0b9e2e1c186b"
      },
      "execution_count": 17,
      "outputs": [
        {
          "output_type": "stream",
          "name": "stderr",
          "text": [
            "ERROR:root:An error occurred: division by zero\n"
          ]
        }
      ]
    },
    {
      "cell_type": "code",
      "source": [
        "# 15.\tWrite a Python program that prints the content of a file and handles the case when the file is empty.\n",
        "\n",
        "with open('input.txt', 'r') as file:\n",
        "    content = file.read()\n",
        "    if not content:\n",
        "        print(\"The file is empty.\")\n",
        "    else:\n",
        "        print(content)"
      ],
      "metadata": {
        "id": "3EYgLH-XH97S"
      },
      "execution_count": null,
      "outputs": []
    },
    {
      "cell_type": "code",
      "source": [
        "# 17.\tWrite a Python program to create and write a list of numbers to a file, one number per line.\n",
        "\n",
        "numbers = [1, 2, 3, 4, 5]\n",
        "with open('numbers.txt', 'w') as file:\n",
        "    for number in numbers:\n",
        "        file.write(f\"{number}\\n\")"
      ],
      "metadata": {
        "id": "t_UYDN-bINwn"
      },
      "execution_count": 21,
      "outputs": []
    },
    {
      "cell_type": "code",
      "source": [
        "# 18.\tHow would you implement a basic logging setup that logs to a file with rotation after 1MB?\n",
        "\n",
        "import logging\n",
        "from logging.handlers import RotatingFileHandler\n",
        "\n",
        "# Configure logging with rotation\n",
        "handler = RotatingFileHandler('app.log', maxBytes=1e6, backupCount=5)\n",
        "logging.basicConfig(handlers=[handler], level=logging.INFO)\n",
        "\n",
        "logging.info(\"This is a log message.\")"
      ],
      "metadata": {
        "id": "Iez0neNOIWde"
      },
      "execution_count": 22,
      "outputs": []
    },
    {
      "cell_type": "code",
      "source": [
        "# 19.\tWrite a program that handles both IndexError and KeyError using a try-except block.\n",
        "\n",
        "my_list = [1, 2, 3]\n",
        "my_dict = {'a': 1, 'b': 2}\n",
        "\n",
        "try:\n",
        "    value = my_list[5]\n",
        "    dict_value = my_dict['c']\n",
        "except IndexError:\n",
        "    print(\"Error: Index out of range.\")\n",
        "except KeyError:\n",
        "    print(\"Error: Key does not exist.\")"
      ],
      "metadata": {
        "colab": {
          "base_uri": "https://localhost:8080/"
        },
        "id": "FViGFc-MIfXX",
        "outputId": "14406c8f-1200-4353-d48f-979e7a0c87ba"
      },
      "execution_count": 23,
      "outputs": [
        {
          "output_type": "stream",
          "name": "stdout",
          "text": [
            "Error: Index out of range.\n"
          ]
        }
      ]
    },
    {
      "cell_type": "code",
      "source": [
        "# 20.\tHow would you open a file and read its contents using a context manager in Python?\n",
        "\n",
        "with open('input.txt', 'r') as file:\n",
        "    content = file.read()\n",
        "    print(content)"
      ],
      "metadata": {
        "id": "2DQF0FpdItpJ"
      },
      "execution_count": null,
      "outputs": []
    },
    {
      "cell_type": "code",
      "source": [
        "# 21.\tWrite a Python program that reads a file and prints the number of occurrences of a specific word.\n",
        "\n",
        "word_to_count = \"example\"\n",
        "count = 0\n",
        "\n",
        "with open('input.txt', 'r') as file:\n",
        "    for line in file:\n",
        "        count += line.lower().count(word_to_count.lower())\n",
        "\n",
        "print(f\"The word '{word_to_count}' occurs {count} times.\")"
      ],
      "metadata": {
        "id": "X0kqxtQAI7jO"
      },
      "execution_count": null,
      "outputs": []
    },
    {
      "cell_type": "code",
      "source": [
        "# 22.\tHow can you check if a file is empty before attempting to read its contents?\n",
        "\n",
        "if os.path.getsize('input.txt') == 0:\n",
        "    print(\"The file is empty.\")\n",
        "else:\n",
        "    with open('input.txt', 'r') as file:\n",
        "        content = file.read()\n",
        "        print(content)"
      ],
      "metadata": {
        "id": "ugRpRKcpJEZ7"
      },
      "execution_count": null,
      "outputs": []
    },
    {
      "cell_type": "code",
      "source": [
        "# 23.\tWrite a Python program that writes to a log file when an error occurs during file handling..\n",
        "\n",
        "import logging\n",
        "\n",
        "# Configure logging\n",
        "logging.basicConfig(filename='file_errors.log', level=logging.ERROR)\n",
        "\n",
        "try:\n",
        "    with open('non_existent_file.txt', 'r') as file:\n",
        "        content = file.read()\n",
        "except Exception as e:\n",
        "    logging.error(\"An error occurred while handling the file: %s\", e)\n",
        "``` ### 24. Write a Python program that reads a file and prints the number of occurrences of a specific word.\n",
        "```python\n",
        "word_to_count = \"example\"\n",
        "count = 0\n",
        "\n",
        "with open('input.txt', 'r') as file:\n",
        "    for line in file:\n",
        "        count += line.lower().count(word_to_count.lower())\n",
        "\n",
        "print(f\"The word '{word_to_count}' occurs {count} times.\")"
      ],
      "metadata": {
        "id": "eQyoYscfJL2P"
      },
      "execution_count": null,
      "outputs": []
    }
  ]
}